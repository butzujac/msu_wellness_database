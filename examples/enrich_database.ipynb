{
 "cells": [
  {
   "cell_type": "markdown",
   "metadata": {},
   "source": [
    "## Example: Use existing database and add schools and keywords\n",
    "\n",
    "- in this example, we will go through how to take the current version of the database and query new schools/keywords to add to the data. Then we will export it to an excel file for use"
   ]
  },
  {
   "cell_type": "code",
   "execution_count": 1,
   "metadata": {},
   "outputs": [],
   "source": [
    "\"\"\"\n",
    "Import the modules from the msu_wellness_database package. \n",
    "\"\"\"\n",
    "from selenium import webdriver\n",
    "import os\n",
    "import sys \n",
    "import pandas as pd\n",
    "\n",
    "project_root = os.path.abspath(os.path.join(os.getcwd(), '..'))\n",
    "sys.path.append(project_root)\n",
    "\n",
    "from msu_wellness_database.msu_wellness_database import scrape_university_resources, clean_database, add_new_keyword, add_new_school, add_new_school_clean"
   ]
  },
  {
   "cell_type": "markdown",
   "metadata": {},
   "source": [
    "## Read in the existing database\n",
    "\n",
    "- this code will read in the newest version of the database from our github repository"
   ]
  },
  {
   "cell_type": "code",
   "execution_count": 2,
   "metadata": {},
   "outputs": [],
   "source": [
    "msu_wellness_db = pd.read_csv(\"https://raw.githubusercontent.com/butzujac/msu_wellness_database/refs/heads/main/docs/msu_wd.csv\")"
   ]
  },
  {
   "cell_type": "markdown",
   "metadata": {},
   "source": [
    "## Add a new School to the database"
   ]
  },
  {
   "cell_type": "code",
   "execution_count": 3,
   "metadata": {},
   "outputs": [],
   "source": [
    "\n",
    "driver = webdriver.Chrome()\n",
    "\n",
    "school_raw_data = {\"GVSU\":\"https://www.gvsu.edu/basic/\"} # can change this to whatever school - need basic needs site\n",
    "\n",
    "school_info = pd.DataFrame(list(school_raw_data.items()), columns=[\"school_name\", \"url\"]) #convert to dataframe for logic within scrape_resources\n",
    "\n",
    "msu_wellness_database_with_added_school = add_new_school(msu_wellness_db, school_info=school_info, driver=driver) #new table\n"
   ]
  },
  {
   "cell_type": "code",
   "execution_count": 9,
   "metadata": {},
   "outputs": [
    {
     "data": {
      "text/html": [
       "<div>\n",
       "<style scoped>\n",
       "    .dataframe tbody tr th:only-of-type {\n",
       "        vertical-align: middle;\n",
       "    }\n",
       "\n",
       "    .dataframe tbody tr th {\n",
       "        vertical-align: top;\n",
       "    }\n",
       "\n",
       "    .dataframe thead th {\n",
       "        text-align: right;\n",
       "    }\n",
       "</style>\n",
       "<table border=\"1\" class=\"dataframe\">\n",
       "  <thead>\n",
       "    <tr style=\"text-align: right;\">\n",
       "      <th></th>\n",
       "      <th>school_name</th>\n",
       "      <th>Food Security</th>\n",
       "      <th>Financial Assistance</th>\n",
       "      <th>Mental Health Support</th>\n",
       "      <th>Academic Support</th>\n",
       "      <th>School Supplies</th>\n",
       "      <th>Cleaning Supplies</th>\n",
       "      <th>Nutrition Education</th>\n",
       "      <th>Financial Literacy</th>\n",
       "      <th>Crisis Intervention</th>\n",
       "      <th>Financial Counseling</th>\n",
       "      <th>Emergency Housing</th>\n",
       "      <th>Emails</th>\n",
       "      <th>Phone Numbers</th>\n",
       "      <th>Total Mentions</th>\n",
       "    </tr>\n",
       "  </thead>\n",
       "  <tbody>\n",
       "    <tr>\n",
       "      <th>28</th>\n",
       "      <td>GVSU</td>\n",
       "      <td>Occurrence 1: On you side GVSU to help student...</td>\n",
       "      <td>Occurrence 1:   GVSU Social Justice Centers Em...</td>\n",
       "      <td>No</td>\n",
       "      <td>No</td>\n",
       "      <td>Occurrence 1: About Replenish Basic Needs Cent...</td>\n",
       "      <td>No</td>\n",
       "      <td>No</td>\n",
       "      <td>No</td>\n",
       "      <td>No</td>\n",
       "      <td>No</td>\n",
       "      <td>No</td>\n",
       "      <td>replen@gvsu.edu\\n\\nfinaid@gvsu.edu\\n\\nvandervk...</td>\n",
       "      <td>(616) 331-2242\\n\\n(616) 331-7867\\n\\n(616) 331-...</td>\n",
       "      <td>10</td>\n",
       "    </tr>\n",
       "  </tbody>\n",
       "</table>\n",
       "</div>"
      ],
      "text/plain": [
       "   school_name                                      Food Security  \\\n",
       "28        GVSU  Occurrence 1: On you side GVSU to help student...   \n",
       "\n",
       "                                 Financial Assistance Mental Health Support  \\\n",
       "28  Occurrence 1:   GVSU Social Justice Centers Em...                    No   \n",
       "\n",
       "   Academic Support                                    School Supplies  \\\n",
       "28               No  Occurrence 1: About Replenish Basic Needs Cent...   \n",
       "\n",
       "   Cleaning Supplies Nutrition Education Financial Literacy  \\\n",
       "28                No                  No                 No   \n",
       "\n",
       "   Crisis Intervention Financial Counseling Emergency Housing  \\\n",
       "28                  No                   No                No   \n",
       "\n",
       "                                               Emails  \\\n",
       "28  replen@gvsu.edu\\n\\nfinaid@gvsu.edu\\n\\nvandervk...   \n",
       "\n",
       "                                        Phone Numbers  Total Mentions  \n",
       "28  (616) 331-2242\\n\\n(616) 331-7867\\n\\n(616) 331-...              10  "
      ]
     },
     "execution_count": 9,
     "metadata": {},
     "output_type": "execute_result"
    }
   ],
   "source": [
    "msu_wellness_database_with_added_school.tail(1)"
   ]
  },
  {
   "cell_type": "markdown",
   "metadata": {},
   "source": [
    "## (Optional): Add Cleaned row to database\n",
    "\n",
    "- here is how to add a new school to the database, where data cleaning is done before it is added. \n",
    "- in order to use this function, you will need to supply an OpenAI api key. More information can be found at https://platform.openai.com/api-keys"
   ]
  },
  {
   "cell_type": "code",
   "execution_count": 5,
   "metadata": {},
   "outputs": [],
   "source": [
    "driver = webdriver.Chrome()\n",
    "\n",
    "school_raw_data = {\"GVSU\":\"https://www.gvsu.edu/basic/\"} # can change this to whatever school - need basic needs site\n",
    "\n",
    "school_info = pd.DataFrame(list(school_raw_data.items()), columns=[\"school_name\", \"url\"]) #convert to dataframe for logic within scrape_resources\n",
    "\n",
    "msu_wellness_database_with_added_school_clean = add_new_school_clean(msu_wellness_db, school_info=school_info, driver=driver, api_key=\"api-key-here\") # within quotes, replace with actual api key\n"
   ]
  },
  {
   "cell_type": "code",
   "execution_count": 6,
   "metadata": {},
   "outputs": [
    {
     "data": {
      "text/html": [
       "<div>\n",
       "<style scoped>\n",
       "    .dataframe tbody tr th:only-of-type {\n",
       "        vertical-align: middle;\n",
       "    }\n",
       "\n",
       "    .dataframe tbody tr th {\n",
       "        vertical-align: top;\n",
       "    }\n",
       "\n",
       "    .dataframe thead th {\n",
       "        text-align: right;\n",
       "    }\n",
       "</style>\n",
       "<table border=\"1\" class=\"dataframe\">\n",
       "  <thead>\n",
       "    <tr style=\"text-align: right;\">\n",
       "      <th></th>\n",
       "      <th>school_name</th>\n",
       "      <th>Food Security</th>\n",
       "      <th>Financial Assistance</th>\n",
       "      <th>Mental Health Support</th>\n",
       "      <th>Academic Support</th>\n",
       "      <th>School Supplies</th>\n",
       "      <th>Cleaning Supplies</th>\n",
       "      <th>Nutrition Education</th>\n",
       "      <th>Financial Literacy</th>\n",
       "      <th>Crisis Intervention</th>\n",
       "      <th>Financial Counseling</th>\n",
       "      <th>Emergency Housing</th>\n",
       "      <th>Emails</th>\n",
       "      <th>Phone Numbers</th>\n",
       "      <th>Total Mentions</th>\n",
       "    </tr>\n",
       "  </thead>\n",
       "  <tbody>\n",
       "    <tr>\n",
       "      <th>28</th>\n",
       "      <td>GVSU</td>\n",
       "      <td>```\\nOccurrence 1: Replenish broadens reach to...</td>\n",
       "      <td>```\\nOccurrence 1: The GVSU Social Justice Cen...</td>\n",
       "      <td>no</td>\n",
       "      <td>no</td>\n",
       "      <td>Occurrence 1: The Grand Valley State Universit...</td>\n",
       "      <td>no</td>\n",
       "      <td>no</td>\n",
       "      <td>no</td>\n",
       "      <td>no</td>\n",
       "      <td>no</td>\n",
       "      <td>no</td>\n",
       "      <td>replen@gvsu.edu\\n\\nfinaid@gvsu.edu\\n\\nvandervk...</td>\n",
       "      <td>(616) 331-2242\\n\\n(616) 331-7867\\n\\n(616) 331-...</td>\n",
       "      <td>6</td>\n",
       "    </tr>\n",
       "  </tbody>\n",
       "</table>\n",
       "</div>"
      ],
      "text/plain": [
       "   school_name                                      Food Security  \\\n",
       "28        GVSU  ```\\nOccurrence 1: Replenish broadens reach to...   \n",
       "\n",
       "                                 Financial Assistance Mental Health Support  \\\n",
       "28  ```\\nOccurrence 1: The GVSU Social Justice Cen...                    no   \n",
       "\n",
       "   Academic Support                                    School Supplies  \\\n",
       "28               no  Occurrence 1: The Grand Valley State Universit...   \n",
       "\n",
       "   Cleaning Supplies Nutrition Education Financial Literacy  \\\n",
       "28                no                  no                 no   \n",
       "\n",
       "   Crisis Intervention Financial Counseling Emergency Housing  \\\n",
       "28                  no                   no                no   \n",
       "\n",
       "                                               Emails  \\\n",
       "28  replen@gvsu.edu\\n\\nfinaid@gvsu.edu\\n\\nvandervk...   \n",
       "\n",
       "                                        Phone Numbers  Total Mentions  \n",
       "28  (616) 331-2242\\n\\n(616) 331-7867\\n\\n(616) 331-...               6  "
      ]
     },
     "execution_count": 6,
     "metadata": {},
     "output_type": "execute_result"
    }
   ],
   "source": [
    "msu_wellness_database_with_added_school_clean.tail(1)"
   ]
  },
  {
   "cell_type": "markdown",
   "metadata": {},
   "source": [
    "## Add new Keyword to the Database"
   ]
  },
  {
   "cell_type": "code",
   "execution_count": 12,
   "metadata": {},
   "outputs": [],
   "source": [
    "driver = webdriver.Chrome()\n",
    "\n",
    "keyword = [\"absence\"] # can change this to whatever keyword you need\n",
    "\n",
    "schools_in_database = msu_wellness_db[\"school_name\"]\n",
    "\n",
    "website_list = pd.read_csv(\"https://raw.githubusercontent.com/butzujac/msu_wellness_database/refs/heads/main/docs/university_food_pantries_list.csv\") # make sure this is the same being fed into the origional database construction\n",
    "\n",
    "school_info = website_list[website_list[\"school_name\"].isin(schools_in_database)] \n",
    "\n",
    "msu_wellness_database_with_added_keyword = add_new_keyword(msu_wellness_database_with_added_school, school_info, keyword = keyword, driver=driver)\n"
   ]
  },
  {
   "cell_type": "code",
   "execution_count": 17,
   "metadata": {},
   "outputs": [
    {
     "data": {
      "text/html": [
       "<div>\n",
       "<style scoped>\n",
       "    .dataframe tbody tr th:only-of-type {\n",
       "        vertical-align: middle;\n",
       "    }\n",
       "\n",
       "    .dataframe tbody tr th {\n",
       "        vertical-align: top;\n",
       "    }\n",
       "\n",
       "    .dataframe thead th {\n",
       "        text-align: right;\n",
       "    }\n",
       "</style>\n",
       "<table border=\"1\" class=\"dataframe\">\n",
       "  <thead>\n",
       "    <tr style=\"text-align: right;\">\n",
       "      <th></th>\n",
       "      <th>school_name</th>\n",
       "      <th>Food Security</th>\n",
       "      <th>Financial Assistance</th>\n",
       "      <th>Mental Health Support</th>\n",
       "      <th>Academic Support</th>\n",
       "      <th>School Supplies</th>\n",
       "      <th>Cleaning Supplies</th>\n",
       "      <th>Nutrition Education</th>\n",
       "      <th>Financial Literacy</th>\n",
       "      <th>Crisis Intervention</th>\n",
       "      <th>Financial Counseling</th>\n",
       "      <th>Emergency Housing</th>\n",
       "      <th>absence</th>\n",
       "      <th>Emails</th>\n",
       "      <th>Phone Numbers</th>\n",
       "      <th>Total Mentions</th>\n",
       "    </tr>\n",
       "  </thead>\n",
       "  <tbody>\n",
       "    <tr>\n",
       "      <th>0</th>\n",
       "      <td>University of California, Los Angeles</td>\n",
       "      <td>no</td>\n",
       "      <td>Occurrence 1: The LA County Department of Publ...</td>\n",
       "      <td>no</td>\n",
       "      <td>Occurence 1: At the center of its mission, the...</td>\n",
       "      <td>no</td>\n",
       "      <td>no</td>\n",
       "      <td>Occurrence 1: The Ashe Center’s nutrition serv...</td>\n",
       "      <td>No</td>\n",
       "      <td>```\\nOccurrence 1: The Trevor Project is the w...</td>\n",
       "      <td>no</td>\n",
       "      <td>no</td>\n",
       "      <td>No</td>\n",
       "      <td>info@caps.ucla.edu\\n\\nbasicneeds@cpo.ucla.edu\\n</td>\n",
       "      <td>(310) 825-4321\\n\\n(310) 825-4321, 310-825-0768...</td>\n",
       "      <td>12</td>\n",
       "    </tr>\n",
       "  </tbody>\n",
       "</table>\n",
       "</div>"
      ],
      "text/plain": [
       "                             school_name Food Security  \\\n",
       "0  University of California, Los Angeles            no   \n",
       "\n",
       "                                Financial Assistance Mental Health Support  \\\n",
       "0  Occurrence 1: The LA County Department of Publ...                    no   \n",
       "\n",
       "                                    Academic Support School Supplies  \\\n",
       "0  Occurence 1: At the center of its mission, the...              no   \n",
       "\n",
       "  Cleaning Supplies                                Nutrition Education  \\\n",
       "0                no  Occurrence 1: The Ashe Center’s nutrition serv...   \n",
       "\n",
       "  Financial Literacy                                Crisis Intervention  \\\n",
       "0                 No  ```\\nOccurrence 1: The Trevor Project is the w...   \n",
       "\n",
       "  Financial Counseling Emergency Housing absence  \\\n",
       "0                   no                no      No   \n",
       "\n",
       "                                            Emails  \\\n",
       "0  info@caps.ucla.edu\\n\\nbasicneeds@cpo.ucla.edu\\n   \n",
       "\n",
       "                                       Phone Numbers  Total Mentions  \n",
       "0  (310) 825-4321\\n\\n(310) 825-4321, 310-825-0768...              12  "
      ]
     },
     "execution_count": 17,
     "metadata": {},
     "output_type": "execute_result"
    }
   ],
   "source": [
    "msu_wellness_database_with_added_keyword.head(1)"
   ]
  },
  {
   "cell_type": "code",
   "execution_count": null,
   "metadata": {},
   "outputs": [],
   "source": []
  }
 ],
 "metadata": {
  "kernelspec": {
   "display_name": "msu_wd_env_2",
   "language": "python",
   "name": "python3"
  },
  "language_info": {
   "codemirror_mode": {
    "name": "ipython",
    "version": 3
   },
   "file_extension": ".py",
   "mimetype": "text/x-python",
   "name": "python",
   "nbconvert_exporter": "python",
   "pygments_lexer": "ipython3",
   "version": "3.11.8"
  }
 },
 "nbformat": 4,
 "nbformat_minor": 2
}
