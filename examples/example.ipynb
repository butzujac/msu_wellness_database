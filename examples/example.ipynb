{
 "cells": [
  {
   "cell_type": "markdown",
   "metadata": {},
   "source": [
    "## Uniscraper Tutorial"
   ]
  },
  {
   "cell_type": "markdown",
   "metadata": {},
   "source": [
    "Below is a tutorial that demonstrates how to get uniscraper running on your computer and some of the potiential usages of the package. Each cell has a different block of code that can be used to test out the package on various different sources. Note: To import the Uniscraper, the Uniscraper package must be in the same folder as this file."
   ]
  },
  {
   "cell_type": "code",
   "execution_count": null,
   "metadata": {
    "ExecuteTime": {
     "end_time": "2022-11-02T11:11:30.288996Z",
     "start_time": "2022-11-02T11:11:05.970294Z"
    }
   },
   "outputs": [],
   "source": [
    "#Import the Uniscraper package\n",
    "from Uniscraper.Uniscraper import uniscraper"
   ]
  },
  {
   "cell_type": "markdown",
   "metadata": {},
   "source": [
    "### Scraping Data From a Static Webpage"
   ]
  },
  {
   "cell_type": "code",
   "execution_count": 2,
   "metadata": {
    "ExecuteTime": {
     "end_time": "2022-11-02T11:24:29.972715Z",
     "start_time": "2022-11-02T11:24:10.817594Z"
    },
    "scrolled": true
   },
   "outputs": [
    {
     "name": "stdout",
     "output_type": "stream",
     "text": [
      "                      Menu            Search   Search                 School of Planning, Design and\n"
     ]
    }
   ],
   "source": [
    "url = \"https://www.canr.msu.edu/people/meng-cai\"\n",
    "webpage = uniscraper(url)\n",
    "print(webpage.text[0:100]) #Prints only the first 100 characters for space purposes"
   ]
  },
  {
   "cell_type": "markdown",
   "metadata": {},
   "source": [
    "### Scraping Data From a Dynamic Webpage"
   ]
  },
  {
   "cell_type": "code",
   "execution_count": null,
   "metadata": {
    "ExecuteTime": {
     "end_time": "2022-11-02T11:25:09.837484Z",
     "start_time": "2022-11-02T11:24:37.288487Z"
    },
    "scrolled": true
   },
   "outputs": [
    {
     "name": "stdout",
     "output_type": "stream",
     "text": [
      "\n"
     ]
    }
   ],
   "source": [
    "dynamic_url = \"https://careernetwork.msu.edu/outcomes/\"\n",
    "dynamic_webpage = uniscraper(dynamic_url)\n",
    "print(dynamic_webpage.text[0:100]) #Prints only the first 100 characters for space purposes"
   ]
  },
  {
   "cell_type": "markdown",
   "metadata": {},
   "source": [
    "### Scraping Data From a PDF File"
   ]
  },
  {
   "cell_type": "code",
   "execution_count": null,
   "metadata": {
    "ExecuteTime": {
     "end_time": "2022-11-02T11:25:19.790026Z",
     "start_time": "2022-11-02T11:25:16.395372Z"
    },
    "scrolled": true
   },
   "outputs": [
    {
     "name": "stdout",
     "output_type": "stream",
     "text": [
      " \n",
      "\n",
      " \n",
      "\n",
      "PhD Student Handbook \n",
      "\n",
      "Dr. Ming-Han Li \n",
      "\n",
      "Director \n",
      "\n",
      "Human Ecology Bldg. \n",
      "\n",
      "552 W. Circle Dr., R\n"
     ]
    }
   ],
   "source": [
    "pdf_url = \"https://www.canr.msu.edu/spdc/uploads/files/student_services/degrees/phd/2018PDC_PhDDegree_Handbook_SPDC_WCAG2.0_June2018.pdf\"\n",
    "pdf_webpage = uniscraper(pdf_url)\n",
    "print(pdf_webpage.text[0:100]) #Prints only the first 100 characters for space purposes"
   ]
  },
  {
   "cell_type": "markdown",
   "metadata": {},
   "source": [
    "### Scraping Data From a Powerpoint File"
   ]
  },
  {
   "cell_type": "code",
   "execution_count": null,
   "metadata": {
    "ExecuteTime": {
     "end_time": "2022-11-02T11:25:53.600123Z",
     "start_time": "2022-11-02T11:25:36.931113Z"
    },
    "scrolled": true
   },
   "outputs": [
    {
     "name": "stdout",
     "output_type": "stream",
     "text": [
      "    Skip to content  Skip to main nav         Log in          Search Tool    Search         Michigan\n"
     ]
    }
   ],
   "source": [
    "pptx_url = \"https://grad.msu.edu/sites/default/files/content/researchintegrity/IntellectualProperty.pptx\"\n",
    "pptx_webpage = uniscraper(pptx_url)\n",
    "print(pptx_webpage.text[0:100]) #Prints only the first 100 characters for space purposes"
   ]
  },
  {
   "cell_type": "markdown",
   "metadata": {},
   "source": [
    "### Scraping Data From a Spreadsheet"
   ]
  },
  {
   "cell_type": "code",
   "execution_count": null,
   "metadata": {
    "ExecuteTime": {
     "end_time": "2022-11-02T11:26:38.635949Z",
     "start_time": "2022-11-02T11:26:37.295639Z"
    },
    "scrolled": true
   },
   "outputs": [
    {
     "name": "stdout",
     "output_type": "stream",
     "text": [
      "African Student Leadership Association\n",
      "\n",
      "African Student Union\n",
      "\n",
      "Arab Cultural Society\n",
      "\n",
      "Armenian Stude\n"
     ]
    }
   ],
   "source": [
    "xlsx_url = \"https://oiss.isp.msu.edu/index.php/download_file/view/966/273/\"\n",
    "xlsx_webpage = uniscraper(xlsx_url)\n",
    "print(xlsx_webpage.text[0:100]) #Prints only the first 100 characters for space purposes"
   ]
  },
  {
   "cell_type": "markdown",
   "metadata": {},
   "source": [
    "### Scraping Data From a Word Document"
   ]
  },
  {
   "cell_type": "code",
   "execution_count": null,
   "metadata": {
    "ExecuteTime": {
     "end_time": "2022-11-02T11:26:59.708216Z",
     "start_time": "2022-11-02T11:26:57.246228Z"
    },
    "scrolled": true
   },
   "outputs": [
    {
     "name": "stdout",
     "output_type": "stream",
     "text": [
      "SERVICES AGREEMENT WITH \n",
      "\n",
      "MICHIGAN STATE UNIVERSITY\n",
      "\n",
      "\n",
      "\n",
      "Purpose.  Michigan State University (hereinaf\n"
     ]
    }
   ],
   "source": [
    "word_url = \"http://vprgs.msu.edu/msu-services-agreement-form\"\n",
    "word_webpage = uniscraper(word_url)\n",
    "print(word_webpage.text[0:100]) #Prints only the first 100 characters for space purposes"
   ]
  },
  {
   "cell_type": "markdown",
   "metadata": {},
   "source": [
    "### Searches For Keywords in Scraped Data"
   ]
  },
  {
   "cell_type": "code",
   "execution_count": 28,
   "metadata": {
    "ExecuteTime": {
     "end_time": "2022-11-02T11:28:41.776892Z",
     "start_time": "2022-11-02T11:28:41.770136Z"
    }
   },
   "outputs": [
    {
     "name": "stdout",
     "output_type": "stream",
     "text": [
      "                      Menu            Search   Search                 School of Planning, Design and Construction            About  Programs  People  Students  Research & Outreach  Events  News  Giving                 Meng Cai       Contact Me   Email:  \u001b[93mcaimeng2@msu.edu\u001b[0m       Major professor: Mark Wilson  Research interests: urban sustainability, smart cities, transformative technologies, transportation, computational social science.               Meng Cai     About    Contact Information   School of Planning, Design and Construction            X Close          « Previous  Next »                                Call Us: 517-432-0704  Contact Information  Sitemap  Accessibility  Privacy  Disclaimer    Call MSU: (517) 355-1855  Visit: msu.edu  MSU is an affirmative-action, equal-opportunity employer.  Notice of Nondiscrimination    Spartans Will .  © Michigan State University             MSU is an affirmative-action, equal-opportunity employer, committed to achieving excellence through a diverse workforce and inclusive culture that encourages all people to reach their full potential.  Michigan State University Extension programs and materials are open to all without regard to race, color, national origin, gender, gender identity, religion, age, height, weight, disability, political beliefs, sexual orientation, marital status, family status or veteran status. Issued in furtherance of MSU Extension work, acts of May 8 and June 30, 1914, in cooperation with the U.S. Department of Agriculture. Quentin Tyler, Director, MSU Extension, East Lansing, MI 48824. This information is for educational purposes only. Reference to commercial products or trade names does not imply endorsement by MSU Extension or bias against those not mentioned.  The 4-H Name and Emblem have special protections from Congress, protected by code 18 USC 707.  We comply with the Federal Trade Commission 1998 Children’s Online Privacy Protection Act (COPPA) .            Search       Menu         Share            Search for            Filter by content type    All Content     Articles     Courses     Events     People     Podcasts     Publications     Recipes     Videos                   School of Planning, Design and Construction      Meng Cai   About  Programs  People  Students  Research & Outreach  Events  News  Giving          Share  Tweet  Save  Share  Print  Email               \n"
     ]
    },
    {
     "data": {
      "text/plain": [
       "NoneType"
      ]
     },
     "execution_count": 28,
     "metadata": {},
     "output_type": "execute_result"
    }
   ],
   "source": [
    "keyword = webpage.search(\"caimeng2@msu.edu\")\n",
    "type(keyword)\n"
   ]
  },
  {
   "cell_type": "markdown",
   "metadata": {},
   "source": [
    "### Practical Application"
   ]
  },
  {
   "cell_type": "markdown",
   "metadata": {},
   "source": [
    "Below is an example of how uniscraper was used in collaboration with selenium on our project. This code will visit a website and search through to find all the hyperlinks on the website, then create a list of these links. Finally the code scrapes all the information off the starter page and all of the subsequently collected links, then searches for the key words on all the scraped data."
   ]
  },
  {
   "cell_type": "code",
   "execution_count": 3,
   "metadata": {},
   "outputs": [
    {
     "name": "stdout",
     "output_type": "stream",
     "text": [
      "      \u001b[93mno\u001b[0m bonjour |    בבקשה לא להגיד סתם שלום בצ׳אט  נגיד שהתקשרת למישהו בטלפון, אמרת שלום! ואז העברת להמתנה… 🤦‍♀️      ❌ לא לעשות ככה     טל  14:15  היי     אלי  14:19  …?     טל  14:20  מתי זה הבדר הזה?     אלי  14:20  אה - 15:30        נא לשים לב שטל יכול היה לקבל את התשובה הרבה לפני כן, ולא היה צריך להמתין לאלי. למעשה, אלי יכול היה לחשוב על השאלה שלו באותו רגע!  אנשים שעושים את זה בדרך כלל מנסים להיות מנומסים על ידי כך שאינם קופצים ישירות לבקשה, כמו שעושים פנים מול פנים או בטלפון - וזה נהדר! אבל אנחנו ב־2022 וצ׳אט אינו אף אחד מאלה. לרוב האנשים הקלדה היא אטית משמעותית מדיבור. לכן, למרות כל הכוונות הטובות זה רק גורם לצד השני להמתין לך לנסח את השאלה שלך, שזה אובדן יעילות (ודי מעצבן).  כנ״ל לגבי:   „היי, יש שם מישהו?”  „היי יפעת - שאלה קצרה.”  „יש לך שנייה?”  „שם?”  „אפשר סימן חיים”  וכו׳   עדיף פשוט לשאול! 😫        ✅ במקום, עדיף לנסות את זה     יעל  14:15  היי! מתי זה קורה?     אלי  14:15  היי, 15:30     יעל  14:15  אחלה - נתראה!     אלי  14:16  👌 סגור        אם לדעתך זה מעט בוטה להגיד „היי” ולשאול את השאלה, אפשר להקדים את ההודעה שלך בכל מיני ריכוכים כראות עיניך.  למשל:   „היי, מה המצב? סתם שאלה, מתי זה קורה?”  „היוש! מקווה שהכול טוב אצלך. אני כרגע בחיפושים אחרי הקופסה, אם יש לך שנייה לעזור :)”  „היי, אם זה בסדר מצדך, אפשר לבקש ממך לעדכן את המצגות?”  וכו׳   זה אולי נראה טריוויאלי, אבל הצגת השאלה שלך בטרם קבלת תגובה על הברכה הראשונית גם מאפשרת תקשורת אסינכרונית . אם הצד השני לא נמצא ועזבת לפני חזרת הצד השני, עדיין יש לו אפשרות לענות על השאלה שלך, במקום פשוט לבהות בהודעת „שלום” ולתהות מה הוחמץ פה.  כשעושים את זה נכון - כולם מרוצים! 🎉       זה חצי בצחוק (סוג של 👀) אז אין מה להתעצבן על מי ששלח או שלחה אותך לכאן.  עם זאת, אם ראית את את הכתובת של האתר הזה בסטטוס/ביו של מישהו, כנראה שיתעלמו מפנייה גנרית מצדך כמו „שלום!”  מבוסס על \u001b[93mno\u001b[0mhello.com הנפלא. התמונות נלקחו מהסדרה The Office . קוד פתוח ב־ GitHub .     האתר הזה זמין בשפות:   English  Čeština  Deutsch  Español  فارسی  Français  עברית  Bahasa Indonesia  Italia\u001b[93mno\u001b[0m  Polski  Português  Português do Brasil  русский  svenska  Türkçe  Українська  Tiếng Việt  简体中文             \n",
      "      \u001b[93mno\u001b[0m bonjour |    s'il vous plaît, ne dites pas juste bonjour dans le chat  Imaginez que vous appelez quelqu'un au téléphone, que vous lui dites \"Bonjour !\" et que vous le mettez en attente... 🤦‍♀️      ❌ Ne fais pas ça     Keith  2:15 PM  salut     Tim  2:19 PM  ...?     Keith  2:20 PM  a quelle huere était ce truc déjà ?     Tim  2:20 PM  oh - 3:30 mon pote        Notez que Keith aurait pu obtenir sa réponse quelques minutes plus tôt, et n'aurait pas eu besoin de faire attendre Tim. En fait, Tim aurait pu commencer à réfléchir à la question tout de suite !  Les personnes qui font cela essaient généralement d'être polies en ne se lançant pas directement dans la demande, comme on le ferait en personne ou au téléphone - et c'est très bien ! Mais \u001b[93mno\u001b[0mus sommes en 2022 et le chat n'est ni l'un ni l'autre. Pour la plupart des gens, taper est beaucoup plus lent que parler. Ainsi, malgré vos meilleures intentions, vous faites attendre votre interlocuteur pour que vous puissiez formuler votre question, ce qui est une perte de productivité (et un peu ennuyeux).  Il en va de même pour :   \"Bonjour, tu es dans le coin ?\"  \"Salut Sophie - Petite question.\"  \"Tu as une seconde ?\"  \"yt ?\"  \"ping\"  etc.   Just ask the question! 😫        ✅ Essayez plutôt ceci     Dawn  2:15 PM  Hiya ! A quelle heure était ce truc ?     Tim  2:15 PM  hey, 3:30     Dawn  2:15 PM  Merci - seeya alors !     Tim  2:16 PM  👌 np        Si vous estimez qu'il est un peu brusque de dire simplement \"Bonjour\" et de poser la question, vous pouvez toujours faire précéder votre message d'autant de civilités que vous le jugez nécessaire .  Par exemple :   \"Salut mec, quoi de neuf ? Et aussi, une idée de la date de remise de ce truc ?\"  \"Salut ! J'espère que tu vas bien. Je cherche le dernier jeu, quand tu auras une seconde :)\"  \"Hé, si tu n'es pas occupé, tu peux mettre à jour ces NFRs ?\"  etc.   Cela peut sembler trivial, mais le fait de poser votre question avant d'obtenir cette réponse initiale de salutations permet également une communication asynchrone . Si l'autre partie est absente et que vous partez avant qu'elle ne revienne, elle peut toujours répondre à votre question, au lieu de se contenter de regarder un \"Bonjour\" en se demandant ce qu'elle a manqué.  Quand c'est bien fait, tout le monde est content ! 🎉       Ceci n'est qu'à moitié sérieux (un peu 👀) alors s'il vous plaît, ne vous fâchez pas ( https://www.youtube.com/watch?v=xzpndHtdl9A ) contre la personne qui vous a envoyé ici.  Cela dit, si vous voyez l'URL de ce site dans le statut/bio de quelqu'un, préparez-vous à être ig\u001b[93mno\u001b[0mré si vous dites seulement \"Bonjour !\".  Basé sur le merveilleux site \u001b[93mno\u001b[0mhello.com . Avatars tirés de The Office . Source ouverte sur GitHub .     Ce site est disponible en :   English  Čeština  Deutsch  Español  فارسی  Français  עברית  Bahasa Indonesia  Italia\u001b[93mno\u001b[0m  Polski  Português  Português do Brasil  русский  svenska  Türkçe  Українська  Tiếng Việt  简体中文             \n"
     ]
    }
   ],
   "source": [
    "import time\n",
    "import pandas as pd\n",
    "from selenium import webdriver\n",
    "from selenium.webdriver.common.by import By\n",
    "from urllib.parse import urljoin, urlparse\n",
    "import time\n",
    "from Uniscraper.Uniscraper import uniscraper\n",
    "def generate_url_list(info, max_links=20):\n",
    "    \"\"\"\n",
    "    This function returns the subdomain links visible from a given website.\n",
    "    Params:\n",
    "        school_info: DataFrame with 'name' and 'url' columns\n",
    "        max_links: max size of the list being returned for each website\n",
    "    Returns:\n",
    "        result_df: DataFrame with 'name' and 'url' columns\n",
    "    \"\"\"\n",
    "    all_links = []  \n",
    "\n",
    "    \n",
    "    for index, row in info.iterrows():\n",
    "        #Get name and url to base/starting page\n",
    "        name = row[\"name\"] \n",
    "        url = row[\"url\"]  \n",
    "\n",
    "        \n",
    "        driver = webdriver.Chrome() \n",
    "        driver.get(url)\n",
    "        time.sleep(1)\n",
    "\n",
    "        #Parsing url to ensure consistency and proper formatting\n",
    "        parsed_url = urlparse(url)\n",
    "        #Takes elements such as scheme and netloc to create valid base domain\n",
    "        base_domain = f\"{parsed_url.scheme}://{parsed_url.netloc}\"\n",
    "\n",
    "        #Set data structure used to avoid duplicates\n",
    "        links = set()\n",
    "\n",
    "        #Looping though each sublink\n",
    "        for a in driver.find_elements(By.TAG_NAME, \"a\"):\n",
    "            href = a.get_attribute(\"href\")\n",
    "            if href: #If link exists\n",
    "                #Joining to ensure only focused websites are being generated\n",
    "                full_link = urljoin(base_domain, href)\n",
    "                #Adding to list of links if it has base domain \n",
    "                if full_link.startswith(base_domain) and full_link not in links:\n",
    "                    links.add(full_link)\n",
    "                    if len(links) >= max_links: #Stopping point after max_links\n",
    "                        break\n",
    "\n",
    "        \n",
    "        driver.quit()\n",
    "\n",
    "        #All links for a website will have the same name but different urls\n",
    "        for link in links:\n",
    "            all_links.append({\"name\": name, \"url\": link})\n",
    "\n",
    "    #Convert to dataframe \n",
    "    result_df = pd.DataFrame(all_links)\n",
    "\n",
    "    return result_df\n",
    "info = pd.DataFrame({\n",
    "    \"name\": [\"test\"], \n",
    "    \"url\": [\"https://nohello.net/en/\"]\n",
    "})\n",
    "website_list = generate_url_list(info)\n",
    "\n",
    "#print(website_list)\n",
    "\n",
    "for url in website_list[\"url\"].tail(2):\n",
    "    site_data = uniscraper(url)\n",
    "    keyword_hit = site_data.search(\"no\")\n",
    "\n",
    "\n",
    "\n"
   ]
  },
  {
   "cell_type": "code",
   "execution_count": null,
   "metadata": {},
   "outputs": [],
   "source": []
  }
 ],
 "metadata": {
  "kernelspec": {
   "display_name": "Python 3 (ipykernel)",
   "language": "python",
   "name": "python3"
  },
  "language_info": {
   "codemirror_mode": {
    "name": "ipython",
    "version": 3
   },
   "file_extension": ".py",
   "mimetype": "text/x-python",
   "name": "python",
   "nbconvert_exporter": "python",
   "pygments_lexer": "ipython3",
   "version": "3.12.7"
  },
  "toc": {
   "base_numbering": 1,
   "nav_menu": {},
   "number_sections": false,
   "sideBar": true,
   "skip_h1_title": false,
   "title_cell": "Table of Contents",
   "title_sidebar": "Contents",
   "toc_cell": false,
   "toc_position": {},
   "toc_section_display": true,
   "toc_window_display": true
  },
  "varInspector": {
   "cols": {
    "lenName": 16,
    "lenType": 16,
    "lenVar": 40
   },
   "kernels_config": {
    "python": {
     "delete_cmd_postfix": "",
     "delete_cmd_prefix": "del ",
     "library": "var_list.py",
     "varRefreshCmd": "print(var_dic_list())"
    },
    "r": {
     "delete_cmd_postfix": ") ",
     "delete_cmd_prefix": "rm(",
     "library": "var_list.r",
     "varRefreshCmd": "cat(var_dic_list()) "
    }
   },
   "types_to_exclude": [
    "module",
    "function",
    "builtin_function_or_method",
    "instance",
    "_Feature"
   ],
   "window_display": false
  }
 },
 "nbformat": 4,
 "nbformat_minor": 4
}
